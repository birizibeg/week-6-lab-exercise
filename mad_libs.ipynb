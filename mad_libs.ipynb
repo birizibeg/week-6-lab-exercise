{
 "cells": [
  {
   "cell_type": "code",
   "execution_count": 8,
   "metadata": {},
   "outputs": [
    {
     "name": "stdin",
     "output_type": "stream",
     "text": [
      "Enter an adjective that describes a day: bland\n",
      "Enter your name: evan\n",
      "Enter another name: BoB\n",
      "Enter another name: carLOS\n",
      "Enter a number: 5135\n",
      "Enter a verb: kill\n",
      "Enter an animal: elephant\n",
      "Enter another number 1424124124\n",
      "Enter an adjective that describes newly found frienship: awesome\n"
     ]
    },
    {
     "name": "stdout",
     "output_type": "stream",
     "text": [
      "\n",
      "\n",
      "\n",
      "\n",
      "It was a rather bland day. Evan and Bob were taking a Computer Science class at Pitt. Carlos was the instructor of this lab, and he ruthlessly assigned 5135 exercises for homework. One of them was to kill an elephant to sleep. After 1424124124 minutes, Evan was desperate because he didn't know how to start. But right at this very moment, Bob appeared out of nowhere and asked to team up with Evan. Fate had joined these two strangers together, and it blossomed into an awesome frienship.\n"
     ]
    }
   ],
   "source": [
    "### this program asks the user for various words to fill in a mad lib.\n",
    "\n",
    "\n",
    "## takes a String input and determines if the first letter is a vowel (y doesn't count!)\n",
    "def starts_with_vowel(word):\n",
    "    letter = word[0]\n",
    "    return (letter == \"a\" or letter == \"e\" or letter == \"i\" or letter == \"o\" or letter == \"u\")\n",
    "\n",
    "adjective1 = input( \"Enter an adjective that describes a day:\")\n",
    "name1 = input( \"Enter your name:\" )\n",
    "name1 = name1.capitalize() # ensure name is correctly capitalized\n",
    "name2 = input( \"Enter another name:\" )\n",
    "name2 = name2.capitalize() # ensure name is correctly capitalized\n",
    "name3 = input( \"Enter another name:\")\n",
    "name3 = name3.capitalize() # ensure name is correctly capitalized\n",
    "number1 = input( \"Enter a number:\" )\n",
    "verb1 = input( \"Enter a verb:\" )\n",
    "animal1 = input( \"Enter an animal:\")\n",
    "animal1_an = \"\" # 'a', not 'an'\n",
    "if starts_with_vowel(animal1): # determines whether it's 'a' or 'an'\n",
    "    animal1_an = \"n\" # 'an', not 'a'\n",
    "number2 = input( \"Enter another number\" )\n",
    "adjective2 = input( \"Enter an adjective that describes newly found frienship:\")\n",
    "adjective2_an = \"\" # 'a', not 'an'\n",
    "if starts_with_vowel(adjective2): # determines whether it's 'a' or 'an'\n",
    "    adjective2_an = \"n\" # 'an', not 'a'\n",
    "\n",
    "\n",
    "print( \"\\n\\n\\n\\nIt was a rather\", adjective1, \"day.\", name1, \"and\", name2,\n",
    "     \"were taking a Computer Science class at Pitt.\", name3, \n",
    "      \"was the instructor of this lab, and he ruthlessly assigned\",\n",
    "      number1, \"exercises for homework. One of them was to\",\n",
    "      verb1, \"a\"+animal1_an, animal1, \"to sleep. After\", number2, \"minutes,\",\n",
    "      name1, \"was desperate because he didn't know how to start.\", \n",
    "      \"But right at this very moment,\", name2, \"appeared out of\",\n",
    "      \"nowhere and asked to team up with\", name1+\". Fate had joined these\",\n",
    "      \"two strangers together, and it blossomed into a\"+adjective2_an,\n",
    "      adjective2, \"frienship.\" )\n"
   ]
  },
  {
   "cell_type": "code",
   "execution_count": null,
   "metadata": {},
   "outputs": [],
   "source": [
    "s\n",
    "s"
   ]
  }
 ],
 "metadata": {
  "kernelspec": {
   "display_name": "Python 3.7",
   "language": "python",
   "name": "python3"
  },
  "language_info": {
   "codemirror_mode": {
    "name": "ipython",
    "version": 3
   },
   "file_extension": ".py",
   "mimetype": "text/x-python",
   "name": "python",
   "nbconvert_exporter": "python",
   "pygments_lexer": "ipython3",
   "version": "3.7.0"
  }
 },
 "nbformat": 4,
 "nbformat_minor": 2
}
