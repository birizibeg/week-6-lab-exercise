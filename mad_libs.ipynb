{
 "cells": [
  {
   "cell_type": "code",
   "execution_count": 10,
   "metadata": {},
   "outputs": [
    {
     "name": "stdin",
     "output_type": "stream",
     "text": [
      "Enter your name: s\n",
      "Enter another name: s\n",
      "Enter another name: s\n",
      "Enter a number: s\n",
      "Enter an animal: s\n",
      "Enter a verb: s\n",
      "Enter an adjective that describes a day: s\n",
      "Enter another number s\n",
      "Enter an adjective that describes newly found frienship: s\n"
     ]
    },
    {
     "name": "stdout",
     "output_type": "stream",
     "text": [
      "\n",
      "\n",
      "\n",
      "\n",
      "It was a rather s day. s and s were taking a Computer Science class at Pitt. s was the instructor of this lab, and he ruthlessly assigned s exercises for homework. One of them was to s a(n) s to sleep. After s minutes,  s was desperate beacuse he doesn't know how to start. But right at this very moment, s appeared out of no where and asked to team up with s . Fate has joined these two strangers together, and at it blossomed into a(n) s frienship.\n"
     ]
    }
   ],
   "source": [
    "name1 = input( \"Enter your name:\" )\n",
    "name2 = input( \"Enter another name:\" )\n",
    "name3 = input( \"Enter another name:\")\n",
    "number = input( \"Enter a number:\" )\n",
    "animal = input( \"Enter an animal:\")\n",
    "verb = input( \"Enter a verb:\" )\n",
    "adjective1 = input( \"Enter an adjective that describes a day:\")\n",
    "number2 = input( \"Enter another number\" )\n",
    "adjective2 = input( \"Enter an adjective that describes newly found frienship:\")\n",
    "\n",
    "print( \"\\n\\n\\n\\nIt was a rather\", adjective1, \"day.\", name1, \"and\", name2,\n",
    "     \"were taking a Computer Science class at Pitt.\", name3, \n",
    "      \"was the instructor of this lab, and he ruthlessly assigned\",\n",
    "      number, \"exercises for homework. One of them was to\",\n",
    "      verb, \"a(n)\", animal, \"to sleep. After\", number2, \"minutes, \",\n",
    "      name1, \"was desperate beacuse he doesn't know how to start.\", \n",
    "      \"But right at this very moment,\", name2, \"appeared out of no\",\n",
    "      \"where and asked to team up with\", name1, \". Fate has joined these\",\n",
    "      \"two strangers together, and at it blossomed into a(n)\",\n",
    "      adjective2, \"frienship.\" )\n"
   ]
  },
  {
   "cell_type": "code",
   "execution_count": null,
   "metadata": {},
   "outputs": [],
   "source": [
    "s\n",
    "s"
   ]
  }
 ],
 "metadata": {
  "kernelspec": {
   "display_name": "Python 3.7",
   "language": "python",
   "name": "python3"
  },
  "language_info": {
   "codemirror_mode": {
    "name": "ipython",
    "version": 3
   },
   "file_extension": ".py",
   "mimetype": "text/x-python",
   "name": "python",
   "nbconvert_exporter": "python",
   "pygments_lexer": "ipython3",
   "version": "3.7.0"
  }
 },
 "nbformat": 4,
 "nbformat_minor": 2
}
