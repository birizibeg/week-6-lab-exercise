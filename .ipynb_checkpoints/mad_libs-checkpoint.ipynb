{
 "cells": [
  {
   "cell_type": "code",
   "execution_count": null,
   "metadata": {},
   "outputs": [],
   "source": [
    "### this program asks the user for various words to fill in a mad lib.\n",
    "\n",
    "\n",
    "## takes a String input and determines if the first letter is a vowel (y doesn't count!)\n",
    "def starts_with_vowel(word):\n",
    "    letter = word[0]\n",
    "    return (letter == \"a\" or letter == \"e\" or letter == \"i\" or letter == \"o\" or letter == \"u\")\n",
    "\n",
    "adjective1 = input( \"Enter an adjective that describes a day:\")\n",
    "name1 = input( \"Enter your name:\" )\n",
    "name1 = name1.capitalize() # ensure name is correctly capitalized\n",
    "name2 = input( \"Enter a second name:\" )\n",
    "name2 = name2.capitalize() # ensure name is correctly capitalized\n",
    "name3 = input( \"Enter a third name:\")\n",
    "name3 = name3.capitalize() # ensure name is correctly capitalized\n",
    "badAdjective = input(\"Enter an adjective you would use to describe something bad: \")\n",
    "number1 = input( \"Enter a number:\" )\n",
    "verb1 = input( \"Enter a verb:\" )\n",
    "animal1 = input( \"Enter an animal:\")\n",
    "animal1_an = \"\" # 'a', not 'an'\n",
    "if starts_with_vowel(animal1): # determines whether it's 'a' or 'an'\n",
    "    animal1_an = \"n\" # 'an', not 'a'\n",
    "number2 = input( \"Enter another number\" )\n",
    "adjective2 = input( \"Enter an adjective that describes newly found frienship:\")\n",
    "adjective2_an = \"\" # 'a', not 'an'\n",
    "if starts_with_vowel(adjective2): # determines whether it's 'a' or 'an'\n",
    "    adjective2_an = \"n\" # 'an', not 'a'\n",
    "\n",
    "\n",
    "print( \"\\n\\n\\n\\nIt was a rather\", adjective1, \"day.\", name1, \"and\", name2,\n",
    "     \"were taking a Computer Science class at Pitt.\", \"That day they were thinking about\"\n",
    "      \"how happy they were to attend Pitt instead of the\", badAdjective, \"Penn State when\" ,name3, \n",
    "      \", the instructor of their lab, ruthlessly assigned\",\n",
    "      number1, \"exercises for homework. One of them was to\",\n",
    "      verb1, \"a\"+animal1_an, animal1, \"to sleep. After\", number2, \"minutes,\",\n",
    "      name1, \"was desperate because he didn't know how to start.\", \n",
    "      \"But right at this very moment,\", name2, \"appeared out of\",\n",
    "      \"nowhere and asked to team up with\", name1+\". Fate had joined these\",\n",
    "      \"two strangers together, and it blossomed into a\"+adjective2_an,\n",
    "      adjective2, \"frienship.\" )\n"
   ]
  },
  {
   "cell_type": "code",
   "execution_count": null,
   "metadata": {},
   "outputs": [],
   "source": [
    "s\n",
    "s"
   ]
  }
 ],
 "metadata": {
  "kernelspec": {
   "display_name": "Python 3.7",
   "language": "python",
   "name": "python3"
  },
  "language_info": {
   "codemirror_mode": {
    "name": "ipython",
    "version": 3
   },
   "file_extension": ".py",
   "mimetype": "text/x-python",
   "name": "python",
   "nbconvert_exporter": "python",
   "pygments_lexer": "ipython3",
   "version": "3.7.0"
  }
 },
 "nbformat": 4,
 "nbformat_minor": 2
}
